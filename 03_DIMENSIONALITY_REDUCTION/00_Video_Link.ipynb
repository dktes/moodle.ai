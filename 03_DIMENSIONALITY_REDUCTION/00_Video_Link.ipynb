{
 "cells": [
  {
   "cell_type": "markdown",
   "metadata": {},
   "source": [
    "# PCA and Dimensionality Reduction Videos"
   ]
  },
  {
   "cell_type": "markdown",
   "metadata": {},
   "source": [
    "Watch PCA and dimensionality reduction videos at below link:-\n",
    "[GoogleDrive](https://drive.google.com/open?id=1-4JlvnWt_bkJRXMv8JOivSVjTChAeftW)\n",
    "\n",
    "One of the video does not play in drive:- **13.5 Data preprocessing**. You can download it and watch.\n",
    "\n",
    "Courtesy:- https://www.appliedaicourse.com, [StatQuest](https://www.youtube.com/channel/UCtYLUTtgS3k1Fg4y5tAhLbw)"
   ]
  }
 ],
 "metadata": {
  "kernelspec": {
   "display_name": "Python 3",
   "language": "python",
   "name": "python3"
  },
  "language_info": {
   "codemirror_mode": {
    "name": "ipython",
    "version": 3
   },
   "file_extension": ".py",
   "mimetype": "text/x-python",
   "name": "python",
   "nbconvert_exporter": "python",
   "pygments_lexer": "ipython3",
   "version": "3.6.8"
  }
 },
 "nbformat": 4,
 "nbformat_minor": 2
}
