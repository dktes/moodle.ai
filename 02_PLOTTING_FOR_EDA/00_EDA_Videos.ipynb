{
 "cells": [
  {
   "cell_type": "markdown",
   "metadata": {},
   "source": [
    "# EDA Videos"
   ]
  },
  {
   "cell_type": "code",
   "execution_count": 1,
   "metadata": {},
   "outputs": [
    {
     "data": {
      "text/html": [
       "\n",
       "        <iframe\n",
       "            width=\"600\"\n",
       "            height=\"400\"\n",
       "            src=\"https://drive.google.com/file/d/1-Yjt-qdogD_npONahCl99G_PAGH-VFrh/preview\"\n",
       "            frameborder=\"0\"\n",
       "            allowfullscreen\n",
       "        ></iframe>\n",
       "        "
      ],
      "text/plain": [
       "<IPython.lib.display.IFrame at 0x7f3b9845ae10>"
      ]
     },
     "execution_count": 1,
     "metadata": {},
     "output_type": "execute_result"
    }
   ],
   "source": [
    "# Intro to IRIS\n",
    "\n",
    "from IPython.display import IFrame\n",
    "url1 = 'https://drive.google.com/file/d/'\n",
    "url2 = '/preview'\n",
    "id = '1-Yjt-qdogD_npONahCl99G_PAGH-VFrh'\n",
    "url =url1+id+url2\n",
    "IFrame(url,width=\"600\",height=\"400\")"
   ]
  },
  {
   "cell_type": "code",
   "execution_count": 2,
   "metadata": {},
   "outputs": [
    {
     "data": {
      "text/html": [
       "\n",
       "        <iframe\n",
       "            width=\"600\"\n",
       "            height=\"400\"\n",
       "            src=\"https://drive.google.com/file/d/1mZoDGQsmojRn3zxepR-DUO9PcRzpu4g9/preview\"\n",
       "            frameborder=\"0\"\n",
       "            allowfullscreen\n",
       "        ></iframe>\n",
       "        "
      ],
      "text/plain": [
       "<IPython.lib.display.IFrame at 0x7f3b984032b0>"
      ]
     },
     "execution_count": 2,
     "metadata": {},
     "output_type": "execute_result"
    }
   ],
   "source": [
    "# 3D Scatter Plot\n",
    "\n",
    "from IPython.display import IFrame\n",
    "url1 = 'https://drive.google.com/file/d/'\n",
    "url2 = '/preview'\n",
    "id = '1mZoDGQsmojRn3zxepR-DUO9PcRzpu4g9'\n",
    "url =url1+id+url2\n",
    "IFrame(url,width=\"600\",height=\"400\")"
   ]
  },
  {
   "cell_type": "code",
   "execution_count": 3,
   "metadata": {},
   "outputs": [
    {
     "data": {
      "text/html": [
       "\n",
       "        <iframe\n",
       "            width=\"600\"\n",
       "            height=\"400\"\n",
       "            src=\"https://drive.google.com/file/d/1bxNUIp2g5To6PwpPQFvgijTuQuwSf0M1/preview\"\n",
       "            frameborder=\"0\"\n",
       "            allowfullscreen\n",
       "        ></iframe>\n",
       "        "
      ],
      "text/plain": [
       "<IPython.lib.display.IFrame at 0x7f3b98403240>"
      ]
     },
     "execution_count": 3,
     "metadata": {},
     "output_type": "execute_result"
    }
   ],
   "source": [
    "# Pair Plots\n",
    "\n",
    "from IPython.display import IFrame\n",
    "url1 = 'https://drive.google.com/file/d/'\n",
    "url2 = '/preview'\n",
    "id = '1bxNUIp2g5To6PwpPQFvgijTuQuwSf0M1'\n",
    "url =url1+id+url2\n",
    "IFrame(url,width=\"600\",height=\"400\")"
   ]
  },
  {
   "cell_type": "code",
   "execution_count": 4,
   "metadata": {},
   "outputs": [
    {
     "data": {
      "text/html": [
       "\n",
       "        <iframe\n",
       "            width=\"600\"\n",
       "            height=\"400\"\n",
       "            src=\"https://drive.google.com/file/d/1toqN_OIVnpWHlwHB7nOUoMfp8hXySJM5/preview\"\n",
       "            frameborder=\"0\"\n",
       "            allowfullscreen\n",
       "        ></iframe>\n",
       "        "
      ],
      "text/plain": [
       "<IPython.lib.display.IFrame at 0x7f3b984032e8>"
      ]
     },
     "execution_count": 4,
     "metadata": {},
     "output_type": "execute_result"
    }
   ],
   "source": [
    "# Limitations of Pair Plots\n",
    "\n",
    "from IPython.display import IFrame\n",
    "url1 = 'https://drive.google.com/file/d/'\n",
    "url2 = '/preview'\n",
    "id = '1toqN_OIVnpWHlwHB7nOUoMfp8hXySJM5'\n",
    "url =url1+id+url2\n",
    "IFrame(url,width=\"600\",height=\"400\")"
   ]
  },
  {
   "cell_type": "code",
   "execution_count": 5,
   "metadata": {},
   "outputs": [
    {
     "data": {
      "text/html": [
       "\n",
       "        <iframe\n",
       "            width=\"600\"\n",
       "            height=\"400\"\n",
       "            src=\"https://drive.google.com/file/d/1dBTGYg9q_mnCQ4Jl8jpUP4oeQV7C8X7-/preview\"\n",
       "            frameborder=\"0\"\n",
       "            allowfullscreen\n",
       "        ></iframe>\n",
       "        "
      ],
      "text/plain": [
       "<IPython.lib.display.IFrame at 0x7f3b984035c0>"
      ]
     },
     "execution_count": 5,
     "metadata": {},
     "output_type": "execute_result"
    }
   ],
   "source": [
    "# Histogram\n",
    "\n",
    "from IPython.display import IFrame\n",
    "url1 = 'https://drive.google.com/file/d/'\n",
    "url2 = '/preview'\n",
    "id = '1dBTGYg9q_mnCQ4Jl8jpUP4oeQV7C8X7-'\n",
    "url =url1+id+url2\n",
    "IFrame(url,width=\"600\",height=\"400\")"
   ]
  },
  {
   "cell_type": "code",
   "execution_count": 6,
   "metadata": {},
   "outputs": [
    {
     "data": {
      "text/html": [
       "\n",
       "        <iframe\n",
       "            width=\"600\"\n",
       "            height=\"400\"\n",
       "            src=\"https://drive.google.com/file/d/1V7d5kfaghHgywbiIyC63mp3of-2IsNdp/preview\"\n",
       "            frameborder=\"0\"\n",
       "            allowfullscreen\n",
       "        ></iframe>\n",
       "        "
      ],
      "text/plain": [
       "<IPython.lib.display.IFrame at 0x7f3b984038d0>"
      ]
     },
     "execution_count": 6,
     "metadata": {},
     "output_type": "execute_result"
    }
   ],
   "source": [
    "# Univariate Analysis\n",
    "\n",
    "from IPython.display import IFrame\n",
    "url1 = 'https://drive.google.com/file/d/'\n",
    "url2 = '/preview'\n",
    "id = '1V7d5kfaghHgywbiIyC63mp3of-2IsNdp'\n",
    "url =url1+id+url2\n",
    "IFrame(url,width=\"600\",height=\"400\")"
   ]
  },
  {
   "cell_type": "code",
   "execution_count": 7,
   "metadata": {},
   "outputs": [
    {
     "data": {
      "text/html": [
       "\n",
       "        <iframe\n",
       "            width=\"600\"\n",
       "            height=\"400\"\n",
       "            src=\"https://drive.google.com/file/d/1BZmK0SQsnbFX2DLEinjBgyIP7fMLMMcg/preview\"\n",
       "            frameborder=\"0\"\n",
       "            allowfullscreen\n",
       "        ></iframe>\n",
       "        "
      ],
      "text/plain": [
       "<IPython.lib.display.IFrame at 0x7f3b98403c18>"
      ]
     },
     "execution_count": 7,
     "metadata": {},
     "output_type": "execute_result"
    }
   ],
   "source": [
    "# CDF\n",
    "\n",
    "from IPython.display import IFrame\n",
    "url1 = 'https://drive.google.com/file/d/'\n",
    "url2 = '/preview'\n",
    "id = '1BZmK0SQsnbFX2DLEinjBgyIP7fMLMMcg'\n",
    "url =url1+id+url2\n",
    "IFrame(url,width=\"600\",height=\"400\")"
   ]
  },
  {
   "cell_type": "code",
   "execution_count": 8,
   "metadata": {},
   "outputs": [
    {
     "data": {
      "text/html": [
       "\n",
       "        <iframe\n",
       "            width=\"600\"\n",
       "            height=\"400\"\n",
       "            src=\"https://drive.google.com/file/d/1oGObVxlm2jRbFITDhuTD4OrqyhztSRfN/preview\"\n",
       "            frameborder=\"0\"\n",
       "            allowfullscreen\n",
       "        ></iframe>\n",
       "        "
      ],
      "text/plain": [
       "<IPython.lib.display.IFrame at 0x7f3b98403b38>"
      ]
     },
     "execution_count": 8,
     "metadata": {},
     "output_type": "execute_result"
    }
   ],
   "source": [
    "# Mean Variance and STD\n",
    "\n",
    "from IPython.display import IFrame\n",
    "url1 = 'https://drive.google.com/file/d/'\n",
    "url2 = '/preview'\n",
    "id = '1oGObVxlm2jRbFITDhuTD4OrqyhztSRfN'\n",
    "url =url1+id+url2\n",
    "IFrame(url,width=\"600\",height=\"400\")"
   ]
  },
  {
   "cell_type": "code",
   "execution_count": 9,
   "metadata": {},
   "outputs": [
    {
     "data": {
      "text/html": [
       "\n",
       "        <iframe\n",
       "            width=\"600\"\n",
       "            height=\"400\"\n",
       "            src=\"https://drive.google.com/file/d/1tgqpW1u4_--CKmTG2Y59c0mb6VfPx-pN/preview\"\n",
       "            frameborder=\"0\"\n",
       "            allowfullscreen\n",
       "        ></iframe>\n",
       "        "
      ],
      "text/plain": [
       "<IPython.lib.display.IFrame at 0x7f3b98403b00>"
      ]
     },
     "execution_count": 9,
     "metadata": {},
     "output_type": "execute_result"
    }
   ],
   "source": [
    "# Median\n",
    "\n",
    "from IPython.display import IFrame\n",
    "url1 = 'https://drive.google.com/file/d/'\n",
    "url2 = '/preview'\n",
    "id = '1tgqpW1u4_--CKmTG2Y59c0mb6VfPx-pN'\n",
    "url =url1+id+url2\n",
    "IFrame(url,width=\"600\",height=\"400\")"
   ]
  },
  {
   "cell_type": "code",
   "execution_count": 10,
   "metadata": {},
   "outputs": [
    {
     "data": {
      "text/html": [
       "\n",
       "        <iframe\n",
       "            width=\"600\"\n",
       "            height=\"400\"\n",
       "            src=\"https://drive.google.com/file/d/11COOXuiR7DzPfhgnAzkczRPgl22VNE9A/preview\"\n",
       "            frameborder=\"0\"\n",
       "            allowfullscreen\n",
       "        ></iframe>\n",
       "        "
      ],
      "text/plain": [
       "<IPython.lib.display.IFrame at 0x7f3b98403d30>"
      ]
     },
     "execution_count": 10,
     "metadata": {},
     "output_type": "execute_result"
    }
   ],
   "source": [
    "# Percentiles\n",
    "\n",
    "from IPython.display import IFrame\n",
    "url1 = 'https://drive.google.com/file/d/'\n",
    "url2 = '/preview'\n",
    "id = '11COOXuiR7DzPfhgnAzkczRPgl22VNE9A'\n",
    "url =url1+id+url2\n",
    "IFrame(url,width=\"600\",height=\"400\")"
   ]
  },
  {
   "cell_type": "code",
   "execution_count": 11,
   "metadata": {},
   "outputs": [
    {
     "data": {
      "text/html": [
       "\n",
       "        <iframe\n",
       "            width=\"600\"\n",
       "            height=\"400\"\n",
       "            src=\"https://drive.google.com/file/d/1Mpn2qQFmuxJThppfhGrH8gXHRnhq5SDH/preview\"\n",
       "            frameborder=\"0\"\n",
       "            allowfullscreen\n",
       "        ></iframe>\n",
       "        "
      ],
      "text/plain": [
       "<IPython.lib.display.IFrame at 0x7f3b98403ef0>"
      ]
     },
     "execution_count": 11,
     "metadata": {},
     "output_type": "execute_result"
    }
   ],
   "source": [
    "# IQR\n",
    "\n",
    "from IPython.display import IFrame\n",
    "url1 = 'https://drive.google.com/file/d/'\n",
    "url2 = '/preview'\n",
    "id = '1Mpn2qQFmuxJThppfhGrH8gXHRnhq5SDH'\n",
    "url =url1+id+url2\n",
    "IFrame(url,width=\"600\",height=\"400\")"
   ]
  },
  {
   "cell_type": "code",
   "execution_count": 12,
   "metadata": {},
   "outputs": [
    {
     "data": {
      "text/html": [
       "\n",
       "        <iframe\n",
       "            width=\"600\"\n",
       "            height=\"400\"\n",
       "            src=\"https://drive.google.com/file/d/1hCqY49mjX-0zMzRQw_DnbJar7UXHEVYm/preview\"\n",
       "            frameborder=\"0\"\n",
       "            allowfullscreen\n",
       "        ></iframe>\n",
       "        "
      ],
      "text/plain": [
       "<IPython.lib.display.IFrame at 0x7f3b983fe0b8>"
      ]
     },
     "execution_count": 12,
     "metadata": {},
     "output_type": "execute_result"
    }
   ],
   "source": [
    "# Box plots\n",
    "\n",
    "from IPython.display import IFrame\n",
    "url1 = 'https://drive.google.com/file/d/'\n",
    "url2 = '/preview'\n",
    "id = '1hCqY49mjX-0zMzRQw_DnbJar7UXHEVYm'\n",
    "url =url1+id+url2\n",
    "IFrame(url,width=\"600\",height=\"400\")"
   ]
  },
  {
   "cell_type": "code",
   "execution_count": 13,
   "metadata": {},
   "outputs": [
    {
     "data": {
      "text/html": [
       "\n",
       "        <iframe\n",
       "            width=\"600\"\n",
       "            height=\"400\"\n",
       "            src=\"https://drive.google.com/file/d/1jMKMal9qVDUvh9VXkaDPSaxMvvaxxNpo/preview\"\n",
       "            frameborder=\"0\"\n",
       "            allowfullscreen\n",
       "        ></iframe>\n",
       "        "
      ],
      "text/plain": [
       "<IPython.lib.display.IFrame at 0x7f3b983fe2e8>"
      ]
     },
     "execution_count": 13,
     "metadata": {},
     "output_type": "execute_result"
    }
   ],
   "source": [
    "# Violin Plot\n",
    "\n",
    "from IPython.display import IFrame\n",
    "url1 = 'https://drive.google.com/file/d/'\n",
    "url2 = '/preview'\n",
    "id = '1jMKMal9qVDUvh9VXkaDPSaxMvvaxxNpo'\n",
    "url =url1+id+url2\n",
    "IFrame(url,width=\"600\",height=\"400\")"
   ]
  },
  {
   "cell_type": "code",
   "execution_count": 14,
   "metadata": {},
   "outputs": [
    {
     "data": {
      "text/html": [
       "\n",
       "        <iframe\n",
       "            width=\"600\"\n",
       "            height=\"400\"\n",
       "            src=\"https://drive.google.com/file/d/1aTpuJoqD7yS8G68Y0QTA01SLwHtH-8YW/preview\"\n",
       "            frameborder=\"0\"\n",
       "            allowfullscreen\n",
       "        ></iframe>\n",
       "        "
      ],
      "text/plain": [
       "<IPython.lib.display.IFrame at 0x7f3b983fe5c0>"
      ]
     },
     "execution_count": 14,
     "metadata": {},
     "output_type": "execute_result"
    }
   ],
   "source": [
    "# Summary\n",
    "\n",
    "from IPython.display import IFrame\n",
    "url1 = 'https://drive.google.com/file/d/'\n",
    "url2 = '/preview'\n",
    "id = '1aTpuJoqD7yS8G68Y0QTA01SLwHtH-8YW'\n",
    "url =url1+id+url2\n",
    "IFrame(url,width=\"600\",height=\"400\")"
   ]
  },
  {
   "cell_type": "code",
   "execution_count": 15,
   "metadata": {},
   "outputs": [
    {
     "data": {
      "text/html": [
       "\n",
       "        <iframe\n",
       "            width=\"600\"\n",
       "            height=\"400\"\n",
       "            src=\"https://drive.google.com/file/d/1QGhSgIMMGcAtio6BEDEFlP-54Y_WM53Q/preview\"\n",
       "            frameborder=\"0\"\n",
       "            allowfullscreen\n",
       "        ></iframe>\n",
       "        "
      ],
      "text/plain": [
       "<IPython.lib.display.IFrame at 0x7f3b983fe898>"
      ]
     },
     "execution_count": 15,
     "metadata": {},
     "output_type": "execute_result"
    }
   ],
   "source": [
    "# Multi-variate probability\n",
    "\n",
    "from IPython.display import IFrame\n",
    "url1 = 'https://drive.google.com/file/d/'\n",
    "url2 = '/preview'\n",
    "id = '1QGhSgIMMGcAtio6BEDEFlP-54Y_WM53Q'\n",
    "url =url1+id+url2\n",
    "IFrame(url,width=\"600\",height=\"400\")"
   ]
  },
  {
   "cell_type": "code",
   "execution_count": 16,
   "metadata": {},
   "outputs": [
    {
     "data": {
      "text/html": [
       "\n",
       "        <iframe\n",
       "            width=\"600\"\n",
       "            height=\"400\"\n",
       "            src=\"https://drive.google.com/file/d/1Roa7hCzY3naGuP6IYwzofl1950aJ8VM9/preview\"\n",
       "            frameborder=\"0\"\n",
       "            allowfullscreen\n",
       "        ></iframe>\n",
       "        "
      ],
      "text/plain": [
       "<IPython.lib.display.IFrame at 0x7f3b983feba8>"
      ]
     },
     "execution_count": 16,
     "metadata": {},
     "output_type": "execute_result"
    }
   ],
   "source": [
    "# Exercise\n",
    "\n",
    "from IPython.display import IFrame\n",
    "url1 = 'https://drive.google.com/file/d/'\n",
    "url2 = '/preview'\n",
    "id = '1Roa7hCzY3naGuP6IYwzofl1950aJ8VM9'\n",
    "url =url1+id+url2\n",
    "IFrame(url,width=\"600\",height=\"400\")"
   ]
  },
  {
   "cell_type": "code",
   "execution_count": 18,
   "metadata": {},
   "outputs": [
    {
     "data": {
      "text/html": [
       "\n",
       "        <iframe\n",
       "            width=\"600\"\n",
       "            height=\"400\"\n",
       "            src=\"https://drive.google.com/file/d/1VZGL4UfLbDx3VtMv4P7LDDHERBcONL-m/preview\"\n",
       "            frameborder=\"0\"\n",
       "            allowfullscreen\n",
       "        ></iframe>\n",
       "        "
      ],
      "text/plain": [
       "<IPython.lib.display.IFrame at 0x7f3b983feb00>"
      ]
     },
     "execution_count": 18,
     "metadata": {},
     "output_type": "execute_result"
    }
   ],
   "source": [
    "# ROC AUC\n",
    "\n",
    "from IPython.display import IFrame\n",
    "url1 = 'https://drive.google.com/file/d/'\n",
    "url2 = '/preview'\n",
    "id = '1VZGL4UfLbDx3VtMv4P7LDDHERBcONL-m'\n",
    "url =url1+id+url2\n",
    "IFrame(url,width=\"600\",height=\"400\")"
   ]
  }
 ],
 "metadata": {
  "kernelspec": {
   "display_name": "Python 3",
   "language": "python",
   "name": "python3"
  },
  "language_info": {
   "codemirror_mode": {
    "name": "ipython",
    "version": 3
   },
   "file_extension": ".py",
   "mimetype": "text/x-python",
   "name": "python",
   "nbconvert_exporter": "python",
   "pygments_lexer": "ipython3",
   "version": "3.6.8"
  }
 },
 "nbformat": 4,
 "nbformat_minor": 2
}
