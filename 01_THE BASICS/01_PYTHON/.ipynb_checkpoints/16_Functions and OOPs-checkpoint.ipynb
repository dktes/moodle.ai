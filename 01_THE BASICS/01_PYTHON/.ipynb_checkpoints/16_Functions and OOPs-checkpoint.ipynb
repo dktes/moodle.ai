{
 "cells": [
  {
   "cell_type": "markdown",
   "metadata": {},
   "source": [
    "# Functions and OOP videos"
   ]
  },
  {
   "cell_type": "code",
   "execution_count": 1,
   "metadata": {},
   "outputs": [
    {
     "data": {
      "text/html": [
       "\n",
       "        <iframe\n",
       "            width=\"600\"\n",
       "            height=\"400\"\n",
       "            src=\"https://drive.google.com/file/d/1Hj_4wWVAh1McpQaSUvqnT4KySqf0Kizz/preview\"\n",
       "            frameborder=\"0\"\n",
       "            allowfullscreen\n",
       "        ></iframe>\n",
       "        "
      ],
      "text/plain": [
       "<IPython.lib.display.IFrame at 0x7fa9a01e9ef0>"
      ]
     },
     "execution_count": 1,
     "metadata": {},
     "output_type": "execute_result"
    }
   ],
   "source": [
    "# Functions\n",
    "\n",
    "from IPython.display import IFrame\n",
    "url1 = 'https://drive.google.com/file/d/'\n",
    "url2 = '/preview'\n",
    "id = '1Hj_4wWVAh1McpQaSUvqnT4KySqf0Kizz'\n",
    "url =url1+id+url2\n",
    "IFrame(url,width=\"600\",height=\"400\")"
   ]
  },
  {
   "cell_type": "code",
   "execution_count": 2,
   "metadata": {},
   "outputs": [
    {
     "data": {
      "text/html": [
       "\n",
       "        <iframe\n",
       "            width=\"600\"\n",
       "            height=\"400\"\n",
       "            src=\"https://drive.google.com/file/d/1KMoptUG5TglOlbwmHRocH1CgHAhNp5yG/preview\"\n",
       "            frameborder=\"0\"\n",
       "            allowfullscreen\n",
       "        ></iframe>\n",
       "        "
      ],
      "text/plain": [
       "<IPython.lib.display.IFrame at 0x7fa991ff90f0>"
      ]
     },
     "execution_count": 2,
     "metadata": {},
     "output_type": "execute_result"
    }
   ],
   "source": [
    "# OOP-1\n",
    "\n",
    "from IPython.display import IFrame\n",
    "url1 = 'https://drive.google.com/file/d/'\n",
    "url2 = '/preview'\n",
    "id = '1KMoptUG5TglOlbwmHRocH1CgHAhNp5yG'\n",
    "url =url1+id+url2\n",
    "IFrame(url,width=\"600\",height=\"400\")"
   ]
  },
  {
   "cell_type": "code",
   "execution_count": 5,
   "metadata": {},
   "outputs": [
    {
     "data": {
      "text/html": [
       "\n",
       "        <iframe\n",
       "            width=\"600\"\n",
       "            height=\"400\"\n",
       "            src=\"https://drive.google.com/file/d/1DHKRXmNxhnDeU-QM1k8u1XWuLsmQkhng/preview\"\n",
       "            frameborder=\"0\"\n",
       "            allowfullscreen\n",
       "        ></iframe>\n",
       "        "
      ],
      "text/plain": [
       "<IPython.lib.display.IFrame at 0x7fa991f4ab00>"
      ]
     },
     "execution_count": 5,
     "metadata": {},
     "output_type": "execute_result"
    }
   ],
   "source": [
    "# OOP-2\n",
    "\n",
    "from IPython.display import IFrame\n",
    "url1 = 'https://drive.google.com/file/d/'\n",
    "url2 = '/preview'\n",
    "id = '1DHKRXmNxhnDeU-QM1k8u1XWuLsmQkhng'\n",
    "url =url1+id+url2\n",
    "IFrame(url,width=\"600\",height=\"400\")"
   ]
  },
  {
   "cell_type": "code",
   "execution_count": 4,
   "metadata": {},
   "outputs": [
    {
     "data": {
      "text/html": [
       "\n",
       "        <iframe\n",
       "            width=\"600\"\n",
       "            height=\"400\"\n",
       "            src=\"https://drive.google.com/file/d/1_rfynvXrBiN3RYFXW-_HU7tkcEHdBSrV/preview\"\n",
       "            frameborder=\"0\"\n",
       "            allowfullscreen\n",
       "        ></iframe>\n",
       "        "
      ],
      "text/plain": [
       "<IPython.lib.display.IFrame at 0x7fa991ff9a20>"
      ]
     },
     "execution_count": 4,
     "metadata": {},
     "output_type": "execute_result"
    }
   ],
   "source": [
    "# OOP-3\n",
    "\n",
    "from IPython.display import IFrame\n",
    "url1 = 'https://drive.google.com/file/d/'\n",
    "url2 = '/preview'\n",
    "id = '1_rfynvXrBiN3RYFXW-_HU7tkcEHdBSrV'\n",
    "url =url1+id+url2\n",
    "IFrame(url,width=\"600\",height=\"400\")"
   ]
  },
  {
   "cell_type": "code",
   "execution_count": 10,
   "metadata": {},
   "outputs": [
    {
     "data": {
      "text/html": [
       "\n",
       "        <iframe\n",
       "            width=\"600\"\n",
       "            height=\"400\"\n",
       "            src=\"https://drive.google.com/file/d/1JNo94B0Jb2F72rbzmQg3Kv80p7g3wE4S/preview\"\n",
       "            frameborder=\"0\"\n",
       "            allowfullscreen\n",
       "        ></iframe>\n",
       "        "
      ],
      "text/plain": [
       "<IPython.lib.display.IFrame at 0x7fa991f4ac50>"
      ]
     },
     "execution_count": 10,
     "metadata": {},
     "output_type": "execute_result"
    }
   ],
   "source": [
    "# OOP-4\n",
    "\n",
    "from IPython.display import IFrame\n",
    "url1 = 'https://drive.google.com/file/d/'\n",
    "url2 = '/preview'\n",
    "id = '1JNo94B0Jb2F72rbzmQg3Kv80p7g3wE4S'\n",
    "url =url1+id+url2\n",
    "IFrame(url,width=\"600\",height=\"400\")"
   ]
  },
  {
   "cell_type": "code",
   "execution_count": 7,
   "metadata": {},
   "outputs": [
    {
     "data": {
      "text/html": [
       "\n",
       "        <iframe\n",
       "            width=\"600\"\n",
       "            height=\"400\"\n",
       "            src=\"https://drive.google.com/file/d/1uWWxJcGh0oPKCAGER2Kx3LaUc8PPLqEp/preview\"\n",
       "            frameborder=\"0\"\n",
       "            allowfullscreen\n",
       "        ></iframe>\n",
       "        "
      ],
      "text/plain": [
       "<IPython.lib.display.IFrame at 0x7fa991f4ad68>"
      ]
     },
     "execution_count": 7,
     "metadata": {},
     "output_type": "execute_result"
    }
   ],
   "source": [
    "# OOP-5\n",
    "\n",
    "from IPython.display import IFrame\n",
    "url1 = 'https://drive.google.com/file/d/'\n",
    "url2 = '/preview'\n",
    "id = '1uWWxJcGh0oPKCAGER2Kx3LaUc8PPLqEp'\n",
    "url =url1+id+url2\n",
    "IFrame(url,width=\"600\",height=\"400\")"
   ]
  },
  {
   "cell_type": "code",
   "execution_count": 9,
   "metadata": {},
   "outputs": [
    {
     "data": {
      "text/html": [
       "\n",
       "        <iframe\n",
       "            width=\"600\"\n",
       "            height=\"400\"\n",
       "            src=\"https://drive.google.com/file/d/1ojQ-6ahCAY7mN3K8vllAh7S0O_6Ek0x3/preview\"\n",
       "            frameborder=\"0\"\n",
       "            allowfullscreen\n",
       "        ></iframe>\n",
       "        "
      ],
      "text/plain": [
       "<IPython.lib.display.IFrame at 0x7fa991f4a9b0>"
      ]
     },
     "execution_count": 9,
     "metadata": {},
     "output_type": "execute_result"
    }
   ],
   "source": [
    "# OOP-6\n",
    "\n",
    "from IPython.display import IFrame\n",
    "url1 = 'https://drive.google.com/file/d/'\n",
    "url2 = '/preview'\n",
    "id = '1ojQ-6ahCAY7mN3K8vllAh7S0O_6Ek0x3'\n",
    "url =url1+id+url2\n",
    "IFrame(url,width=\"600\",height=\"400\")"
   ]
  }
 ],
 "metadata": {
  "kernelspec": {
   "display_name": "Python 3",
   "language": "python",
   "name": "python3"
  },
  "language_info": {
   "codemirror_mode": {
    "name": "ipython",
    "version": 3
   },
   "file_extension": ".py",
   "mimetype": "text/x-python",
   "name": "python",
   "nbconvert_exporter": "python",
   "pygments_lexer": "ipython3",
   "version": "3.6.8"
  }
 },
 "nbformat": 4,
 "nbformat_minor": 2
}
