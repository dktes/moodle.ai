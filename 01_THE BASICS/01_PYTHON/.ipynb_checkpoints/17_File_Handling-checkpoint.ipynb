{
 "cells": [
  {
   "cell_type": "markdown",
   "metadata": {},
   "source": [
    "# File Handling Videos"
   ]
  },
  {
   "cell_type": "code",
   "execution_count": 1,
   "metadata": {},
   "outputs": [
    {
     "data": {
      "text/html": [
       "\n",
       "        <iframe\n",
       "            width=\"600\"\n",
       "            height=\"400\"\n",
       "            src=\"https://drive.google.com/file/d/10puN3_gUgxqoIJVZHGa98h9EYp-M1wOc/preview\"\n",
       "            frameborder=\"0\"\n",
       "            allowfullscreen\n",
       "        ></iframe>\n",
       "        "
      ],
      "text/plain": [
       "<IPython.lib.display.IFrame at 0x7fedbcc5ce48>"
      ]
     },
     "execution_count": 1,
     "metadata": {},
     "output_type": "execute_result"
    }
   ],
   "source": [
    "# File Handling\n",
    "\n",
    "from IPython.display import IFrame\n",
    "url1 = 'https://drive.google.com/file/d/'\n",
    "url2 = '/preview'\n",
    "id = '10puN3_gUgxqoIJVZHGa98h9EYp-M1wOc'\n",
    "url =url1+id+url2\n",
    "IFrame(url,width=\"600\",height=\"400\")"
   ]
  },
  {
   "cell_type": "code",
   "execution_count": 2,
   "metadata": {},
   "outputs": [
    {
     "data": {
      "text/html": [
       "\n",
       "        <iframe\n",
       "            width=\"600\"\n",
       "            height=\"400\"\n",
       "            src=\"https://drive.google.com/file/d/1zSHVYcxeIvoPXlVUu5-z4epd1WkGzXSu/preview\"\n",
       "            frameborder=\"0\"\n",
       "            allowfullscreen\n",
       "        ></iframe>\n",
       "        "
      ],
      "text/plain": [
       "<IPython.lib.display.IFrame at 0x7fedbc402390>"
      ]
     },
     "execution_count": 2,
     "metadata": {},
     "output_type": "execute_result"
    }
   ],
   "source": [
    "# Json\n",
    "\n",
    "from IPython.display import IFrame\n",
    "url1 = 'https://drive.google.com/file/d/'\n",
    "url2 = '/preview'\n",
    "id = '1zSHVYcxeIvoPXlVUu5-z4epd1WkGzXSu'\n",
    "url =url1+id+url2\n",
    "IFrame(url,width=\"600\",height=\"400\")"
   ]
  }
 ],
 "metadata": {
  "kernelspec": {
   "display_name": "Python 3",
   "language": "python",
   "name": "python3"
  },
  "language_info": {
   "codemirror_mode": {
    "name": "ipython",
    "version": 3
   },
   "file_extension": ".py",
   "mimetype": "text/x-python",
   "name": "python",
   "nbconvert_exporter": "python",
   "pygments_lexer": "ipython3",
   "version": "3.6.8"
  }
 },
 "nbformat": 4,
 "nbformat_minor": 2
}
